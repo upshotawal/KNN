{
 "cells": [
  {
   "cell_type": "markdown",
   "id": "7fc3ecdd",
   "metadata": {},
   "source": [
    "For a business without any user-item purchase history, a search engine based recommendation system can be designed for users. The product recommendations can be based on textual clustering analysis given in product description.\n"
   ]
  },
  {
   "cell_type": "code",
   "execution_count": 1,
   "id": "246246cd",
   "metadata": {},
   "outputs": [],
   "source": [
    "import numpy as np\n",
    "import pandas as pd\n",
    "import matplotlib.pyplot as plt\n",
    "\n",
    "from sklearn.feature_extraction.text import TfidfVectorizer, CountVectorizer\n",
    "from sklearn.neighbors import NearestNeighbors\n",
    "from sklearn.cluster import KMeans\n",
    "from sklearn.metrics import adjusted_rand_score"
   ]
  },
  {
   "cell_type": "code",
   "execution_count": 2,
   "id": "c2b65d93",
   "metadata": {},
   "outputs": [
    {
     "data": {
      "text/plain": [
       "(541909, 8)"
      ]
     },
     "execution_count": 2,
     "metadata": {},
     "output_type": "execute_result"
    }
   ],
   "source": [
    "product_descriptions = pd.read_csv('data.csv',encoding='unicode_escape')\n",
    "product_descriptions.shape"
   ]
  },
  {
   "cell_type": "code",
   "execution_count": 3,
   "id": "df107f89",
   "metadata": {},
   "outputs": [],
   "source": [
    "product_descriptions = product_descriptions.dropna()"
   ]
  },
  {
   "cell_type": "code",
   "execution_count": 4,
   "id": "ea28a136",
   "metadata": {},
   "outputs": [],
   "source": [
    "product_descriptions1 = product_descriptions.head(500)"
   ]
  },
  {
   "cell_type": "code",
   "execution_count": 5,
   "id": "eca2c2b2",
   "metadata": {},
   "outputs": [
    {
     "data": {
      "text/plain": [
       "0     WHITE HANGING HEART T-LIGHT HOLDER\n",
       "1                    WHITE METAL LANTERN\n",
       "2         CREAM CUPID HEARTS COAT HANGER\n",
       "3    KNITTED UNION FLAG HOT WATER BOTTLE\n",
       "4         RED WOOLLY HOTTIE WHITE HEART.\n",
       "5           SET 7 BABUSHKA NESTING BOXES\n",
       "6      GLASS STAR FROSTED T-LIGHT HOLDER\n",
       "7                 HAND WARMER UNION JACK\n",
       "8              HAND WARMER RED POLKA DOT\n",
       "9          ASSORTED COLOUR BIRD ORNAMENT\n",
       "Name: Description, dtype: object"
      ]
     },
     "execution_count": 5,
     "metadata": {},
     "output_type": "execute_result"
    }
   ],
   "source": [
    "product_descriptions1[\"Description\"].head(10)"
   ]
  },
  {
   "cell_type": "code",
   "execution_count": null,
   "id": "61b5f751",
   "metadata": {},
   "outputs": [],
   "source": []
  },
  {
   "cell_type": "code",
   "execution_count": 6,
   "id": "8fba5e41",
   "metadata": {},
   "outputs": [],
   "source": [
    "from sklearn.feature_extraction.text import TfidfVectorizer\n",
    "\n",
    "tfv = TfidfVectorizer(min_df=3,  max_features=None, \n",
    "            strip_accents='unicode', analyzer='word',token_pattern=r'\\w{1,}',\n",
    "            ngram_range=(1, 3),\n",
    "            stop_words = 'english')"
   ]
  },
  {
   "cell_type": "code",
   "execution_count": 7,
   "id": "1cdf2863",
   "metadata": {},
   "outputs": [],
   "source": [
    "tfv_matrix = tfv.fit_transform(product_descriptions1['Description'])\n"
   ]
  },
  {
   "cell_type": "code",
   "execution_count": 8,
   "id": "2db119ae",
   "metadata": {},
   "outputs": [
    {
     "data": {
      "text/plain": [
       "<500x457 sparse matrix of type '<class 'numpy.float64'>'\n",
       "\twith 3113 stored elements in Compressed Sparse Row format>"
      ]
     },
     "execution_count": 8,
     "metadata": {},
     "output_type": "execute_result"
    }
   ],
   "source": [
    "tfv_matrix"
   ]
  },
  {
   "cell_type": "code",
   "execution_count": 9,
   "id": "e1db1e12",
   "metadata": {},
   "outputs": [
    {
     "data": {
      "text/plain": [
       "(500, 457)"
      ]
     },
     "execution_count": 9,
     "metadata": {},
     "output_type": "execute_result"
    }
   ],
   "source": [
    "tfv_matrix.shape"
   ]
  },
  {
   "cell_type": "code",
   "execution_count": 10,
   "id": "003e47a4",
   "metadata": {},
   "outputs": [],
   "source": [
    "from sklearn.metrics.pairwise import sigmoid_kernel\n",
    "\n",
    "sig = sigmoid_kernel(tfv_matrix, tfv_matrix)"
   ]
  },
  {
   "cell_type": "code",
   "execution_count": 11,
   "id": "207d9516",
   "metadata": {},
   "outputs": [
    {
     "data": {
      "text/plain": [
       "array([0.76251161, 0.76164574, 0.76159416, 0.76159416, 0.76166941,\n",
       "       0.76159416, 0.76187959, 0.76159416, 0.76159416, 0.76159416,\n",
       "       0.76159416, 0.76159416, 0.76159416, 0.76159416, 0.76159416,\n",
       "       0.76159416, 0.76159416, 0.76159416, 0.76159416, 0.76166747,\n",
       "       0.76159416, 0.76159416, 0.76159416, 0.76159416, 0.76159416,\n",
       "       0.76159416, 0.76159416, 0.76159416, 0.76159416, 0.76159416,\n",
       "       0.76159416, 0.76159416, 0.76159416, 0.76159416, 0.76159416,\n",
       "       0.76159416, 0.76159416, 0.76159416, 0.76159416, 0.76163629,\n",
       "       0.76159416, 0.76159416, 0.76159416, 0.76159416, 0.76159416,\n",
       "       0.76159416, 0.76159416, 0.76159416, 0.76159416, 0.76251161,\n",
       "       0.76164574, 0.76159416, 0.76159416, 0.76159416, 0.76159416,\n",
       "       0.76159416, 0.76159416, 0.76162537, 0.76162206, 0.76162852,\n",
       "       0.76163361, 0.76159416, 0.76166941, 0.76159416, 0.76187959,\n",
       "       0.76159416, 0.76251161, 0.76164574, 0.76159416, 0.76159416,\n",
       "       0.76159416, 0.76159416, 0.76159416, 0.76159416, 0.76162537,\n",
       "       0.76162206, 0.76162852, 0.76163361, 0.76159416, 0.76166941,\n",
       "       0.76159416, 0.76187959, 0.76159416, 0.76238612, 0.76159416,\n",
       "       0.76159416, 0.76159416, 0.76164805, 0.76159416, 0.76159416,\n",
       "       0.76159416, 0.76159416, 0.76159416, 0.76159416, 0.76159416,\n",
       "       0.76159416, 0.76159416, 0.76159416, 0.76159416, 0.76159416,\n",
       "       0.76159416, 0.76159416, 0.76159416, 0.76159416, 0.76159416,\n",
       "       0.76159416, 0.76159416, 0.76159416, 0.76159416, 0.76159416,\n",
       "       0.76164875, 0.76159416, 0.76159416, 0.76159416, 0.76159416,\n",
       "       0.76159416, 0.76159416, 0.76159416, 0.76159416, 0.76159416,\n",
       "       0.76159416, 0.76159416, 0.76159416, 0.76159416, 0.76167492,\n",
       "       0.76159416, 0.76159416, 0.76166676, 0.76159416, 0.76159416,\n",
       "       0.76159416, 0.76159416, 0.76159416, 0.76159416, 0.76159416,\n",
       "       0.76159416, 0.76159416, 0.76163629, 0.76159416, 0.76159416,\n",
       "       0.76159416, 0.76159416, 0.76159416, 0.76159416, 0.76159416,\n",
       "       0.76159416, 0.76159416, 0.76159416, 0.76159416, 0.76159416,\n",
       "       0.76159416, 0.76159416, 0.76159416, 0.76159416, 0.76159416,\n",
       "       0.76163912, 0.76209185, 0.76173046, 0.76171456, 0.7616689 ,\n",
       "       0.76164743, 0.76166162, 0.76169812, 0.76174159, 0.76176591,\n",
       "       0.76159416, 0.76159416, 0.76159416, 0.76159416, 0.76159416,\n",
       "       0.76159416, 0.76159416, 0.76159416, 0.76165835, 0.76159416,\n",
       "       0.76178381, 0.76164805, 0.76159416, 0.76159416, 0.76173678,\n",
       "       0.76172601, 0.76159416, 0.76163629, 0.76159416, 0.76159416,\n",
       "       0.76159416, 0.76159416, 0.76173427, 0.76179928, 0.76173046,\n",
       "       0.76159416, 0.76159416, 0.76159416, 0.76159416, 0.76159416,\n",
       "       0.76164743, 0.76159416, 0.76159416, 0.76159416, 0.76159416,\n",
       "       0.76159416, 0.76159416, 0.76159416, 0.76159416, 0.76159416,\n",
       "       0.76159416, 0.76159416, 0.76159416, 0.76159416, 0.76170034,\n",
       "       0.76170988, 0.76159416, 0.76159416, 0.76159416, 0.76159416,\n",
       "       0.76159416, 0.76159416, 0.76220042, 0.76159416, 0.76159416,\n",
       "       0.76251161, 0.76167586, 0.76167356, 0.76159416, 0.76159416,\n",
       "       0.76159416, 0.76159416, 0.76159416, 0.76159416, 0.76165453,\n",
       "       0.76159416, 0.76159416, 0.76159416, 0.76159416, 0.76159416,\n",
       "       0.76159416, 0.76159416, 0.76159416, 0.76159416, 0.76159416,\n",
       "       0.76159416, 0.76159416, 0.76159416, 0.76159416, 0.76159416,\n",
       "       0.76159416, 0.76159416, 0.76159416, 0.76159416, 0.76159416,\n",
       "       0.76159416, 0.76159416, 0.76159416, 0.76159416, 0.76159416,\n",
       "       0.76159416, 0.76159416, 0.76159416, 0.76165453, 0.76159416,\n",
       "       0.76159416, 0.76159416, 0.76251161, 0.76159416, 0.76176591,\n",
       "       0.76159416, 0.76159416, 0.76159416, 0.76159416, 0.76159416,\n",
       "       0.76165403, 0.76159416, 0.76159416, 0.76159416, 0.76159416,\n",
       "       0.76159416, 0.76159416, 0.76159416, 0.76251161, 0.76164574,\n",
       "       0.76159416, 0.76159416, 0.76159416, 0.76159416, 0.76159416,\n",
       "       0.76159416, 0.76159416, 0.76162537, 0.76162206, 0.76162852,\n",
       "       0.76163361, 0.76159416, 0.76166941, 0.76159416, 0.76159416,\n",
       "       0.76187959, 0.76159416, 0.76159416, 0.76159416, 0.76159416,\n",
       "       0.76159416, 0.76159416, 0.76159416, 0.76159416, 0.76159416,\n",
       "       0.76159416, 0.76159416, 0.76159416, 0.76159416, 0.76159416,\n",
       "       0.76159416, 0.76159416, 0.76159416, 0.76163132, 0.76159416,\n",
       "       0.76159416, 0.76159416, 0.76159416, 0.76159416, 0.76159416,\n",
       "       0.76159416, 0.76159416, 0.76159416, 0.76159416, 0.76159416,\n",
       "       0.76159416, 0.76159416, 0.76159416, 0.76159416, 0.76159416,\n",
       "       0.76159416, 0.76159416, 0.76159416, 0.76159416, 0.76159416,\n",
       "       0.76159416, 0.76159416, 0.76159416, 0.76159416, 0.76159416,\n",
       "       0.76159416, 0.76159416, 0.76159416, 0.76159416, 0.76159416,\n",
       "       0.76159416, 0.76159416, 0.76159416, 0.76159416, 0.76159416,\n",
       "       0.76166954, 0.76166954, 0.76173427, 0.76159416, 0.76159416,\n",
       "       0.76159416, 0.76159416, 0.76168915, 0.76171233, 0.76159416,\n",
       "       0.76159416, 0.76159416, 0.76159416, 0.76159416, 0.76251161,\n",
       "       0.7619328 , 0.76162537, 0.76159416, 0.76159416, 0.76159416,\n",
       "       0.76159416, 0.76159416, 0.76159416, 0.76159416, 0.76159416,\n",
       "       0.76159416, 0.76159416, 0.76159416, 0.76159416, 0.76159416,\n",
       "       0.76159416, 0.76159416, 0.76159416, 0.76159416, 0.76159416,\n",
       "       0.76159416, 0.76159416, 0.76168088, 0.76159416, 0.76159416,\n",
       "       0.76159416, 0.76159416, 0.76164743, 0.76167586, 0.76159416,\n",
       "       0.76159416, 0.76159416, 0.76159416, 0.76159416, 0.76159416,\n",
       "       0.76159416, 0.76159416, 0.76159416, 0.76159416, 0.76164615,\n",
       "       0.76159416, 0.76159416, 0.76159416, 0.76159416, 0.76159416,\n",
       "       0.76159416, 0.76159416, 0.76159416, 0.76159416, 0.76167664,\n",
       "       0.76159416, 0.76251161, 0.76164574, 0.76159416, 0.76159416,\n",
       "       0.76159416, 0.76159416, 0.76159416, 0.76159416, 0.76162537,\n",
       "       0.76162206, 0.76162852, 0.76163361, 0.76159416, 0.76166941,\n",
       "       0.76159416, 0.76159416, 0.76187959, 0.76159416, 0.76159416,\n",
       "       0.76159416, 0.76159416, 0.76159416, 0.76159416, 0.76159416,\n",
       "       0.76159416, 0.76159416, 0.76159416, 0.76159416, 0.76166941,\n",
       "       0.76163132, 0.76159416, 0.76159416, 0.76159416, 0.76197733,\n",
       "       0.76209941, 0.76238612, 0.76168114, 0.76210918, 0.76159416,\n",
       "       0.76159416, 0.76159416, 0.76179449, 0.76159416, 0.76159416,\n",
       "       0.76159416, 0.76159416, 0.76159416, 0.76159416, 0.76159416,\n",
       "       0.76159416, 0.76159416, 0.76159416, 0.76159416, 0.76159416,\n",
       "       0.76159416, 0.76159416, 0.76159416, 0.76159416, 0.76159416,\n",
       "       0.76159416, 0.76188109, 0.76159416, 0.76159416, 0.76159416,\n",
       "       0.76159416, 0.76159416, 0.76159416, 0.76159416, 0.76163132,\n",
       "       0.76159416, 0.76159416, 0.76159416, 0.76159416, 0.76159416,\n",
       "       0.76159416, 0.76208349, 0.76159416, 0.761675  , 0.76159416,\n",
       "       0.76173427, 0.76159416, 0.76159416, 0.76159416, 0.76159416])"
      ]
     },
     "execution_count": 11,
     "metadata": {},
     "output_type": "execute_result"
    }
   ],
   "source": [
    "sig[0]"
   ]
  },
  {
   "cell_type": "code",
   "execution_count": 12,
   "id": "7fe3ce9c",
   "metadata": {},
   "outputs": [],
   "source": [
    "indices = pd.Series(product_descriptions1.index, index=product_descriptions1['Description']).drop_duplicates()"
   ]
  },
  {
   "cell_type": "code",
   "execution_count": 13,
   "id": "14ef0460",
   "metadata": {},
   "outputs": [
    {
     "data": {
      "text/plain": [
       "Description\n",
       "WHITE HANGING HEART T-LIGHT HOLDER       0\n",
       "WHITE METAL LANTERN                      1\n",
       "CREAM CUPID HEARTS COAT HANGER           2\n",
       "KNITTED UNION FLAG HOT WATER BOTTLE      3\n",
       "RED WOOLLY HOTTIE WHITE HEART.           4\n",
       "                                      ... \n",
       "RED HEART LUGGAGE TAG                  495\n",
       "RED GLASS TASSLE BAG CHARM             496\n",
       "CLEAR ACRYLIC FACETED BANGLE           497\n",
       "5 STRAND GLASS NECKLACE CRYSTAL        498\n",
       "DOORMAT UNION JACK GUNS AND ROSES      499\n",
       "Length: 500, dtype: int64"
      ]
     },
     "execution_count": 13,
     "metadata": {},
     "output_type": "execute_result"
    }
   ],
   "source": [
    "indices"
   ]
  },
  {
   "cell_type": "code",
   "execution_count": 30,
   "id": "d71402e6",
   "metadata": {},
   "outputs": [],
   "source": [
    "def give_rec(title, sig=sig):\n",
    "    idx = indices[title]\n",
    "    \n",
    "    # Get the pairwsie similarity scores \n",
    "    sig_scores = list(enumerate(sig[idx]))\n",
    "    \n",
    "    # Sort the products\n",
    "    sig_scores = sorted(sig_scores, key=lambda x: x[1].all(), reverse=True)\n",
    "    \n",
    "    # Scores of the 10 most similar products\n",
    "    sig_scores = sig_scores[1:10]\n",
    "    \n",
    "    # Products indices\n",
    "    product_indices = [i[0] for i in sig_scores]\n",
    "    \n",
    "    return product_descriptions1['Description'].iloc[product_indices]"
   ]
  },
  {
   "cell_type": "code",
   "execution_count": 32,
   "id": "4447c289",
   "metadata": {},
   "outputs": [
    {
     "data": {
      "text/plain": [
       "1                    WHITE METAL LANTERN\n",
       "2         CREAM CUPID HEARTS COAT HANGER\n",
       "3    KNITTED UNION FLAG HOT WATER BOTTLE\n",
       "4         RED WOOLLY HOTTIE WHITE HEART.\n",
       "5           SET 7 BABUSHKA NESTING BOXES\n",
       "6      GLASS STAR FROSTED T-LIGHT HOLDER\n",
       "7                 HAND WARMER UNION JACK\n",
       "8              HAND WARMER RED POLKA DOT\n",
       "9          ASSORTED COLOUR BIRD ORNAMENT\n",
       "Name: Description, dtype: object"
      ]
     },
     "execution_count": 32,
     "metadata": {},
     "output_type": "execute_result"
    }
   ],
   "source": [
    "give_rec('RED GLASS TASSLE BAG CHARM')"
   ]
  },
  {
   "cell_type": "code",
   "execution_count": null,
   "id": "6f46f432",
   "metadata": {},
   "outputs": [],
   "source": []
  },
  {
   "cell_type": "code",
   "execution_count": null,
   "id": "c158ca91",
   "metadata": {},
   "outputs": [],
   "source": [
    "# product_descriptions = pd.read_csv('data.csv',encoding='unicode_escape')\n",
    "# product_descriptions.shape"
   ]
  },
  {
   "cell_type": "code",
   "execution_count": null,
   "id": "7ccdbaee",
   "metadata": {},
   "outputs": [],
   "source": [
    "product_descriptions = product_descriptions.dropna()"
   ]
  },
  {
   "cell_type": "code",
   "execution_count": null,
   "id": "ffafedba",
   "metadata": {},
   "outputs": [],
   "source": [
    "product_descriptions1 = product_descriptions.head(500)"
   ]
  },
  {
   "cell_type": "code",
   "execution_count": null,
   "id": "c2efbb72",
   "metadata": {
    "scrolled": true
   },
   "outputs": [],
   "source": [
    "product_descriptions1[\"Description\"].head(10)"
   ]
  },
  {
   "cell_type": "code",
   "execution_count": null,
   "id": "78297814",
   "metadata": {},
   "outputs": [],
   "source": [
    "vectorizer = TfidfVectorizer(stop_words='english')\n",
    "X1 = vectorizer.fit_transform(product_descriptions1[\"Description\"])\n",
    "X1"
   ]
  },
  {
   "cell_type": "code",
   "execution_count": null,
   "id": "b24dd42a",
   "metadata": {},
   "outputs": [],
   "source": [
    "# X=X1\n",
    "\n",
    "# kmeans = KMeans(n_clusters = 10, init = 'k-means++')\n",
    "# y_kmeans = kmeans.fit_predict(X)\n",
    "# plt.plot(y_kmeans, \".\")\n",
    "# plt.show()"
   ]
  },
  {
   "cell_type": "code",
   "execution_count": null,
   "id": "012ba2b6",
   "metadata": {},
   "outputs": [],
   "source": [
    "# def print_cluster(i):\n",
    "#     print(\"Cluster %d:\" % i),\n",
    "#     for ind in order_centroids[i, :10]:\n",
    "#         print(' %s' % terms[ind]),\n",
    "#     print"
   ]
  },
  {
   "cell_type": "code",
   "execution_count": null,
   "id": "95a1b32d",
   "metadata": {},
   "outputs": [],
   "source": [
    "# true_k = 10\n",
    "\n",
    "# model = KMeans(n_clusters=true_k, init='k-means++', max_iter=100, n_init=1)\n",
    "# model.fit(X1)\n",
    "\n",
    "# print(\"Top terms per cluster:\")\n",
    "# order_centroids = model.cluster_centers_.argsort()[:, ::-1]\n",
    "# terms = vectorizer.get_feature_names()\n",
    "# for i in range(true_k):\n",
    "#     print_cluster(i)"
   ]
  },
  {
   "cell_type": "code",
   "execution_count": null,
   "id": "4d8a4b4e",
   "metadata": {},
   "outputs": [],
   "source": [
    "# def show_recommendations(product):\n",
    "#     Y = vectorizer.transform([product])\n",
    "# #     prediction = model.predict(Y)\n",
    "#     print_cluster(prediction[0])"
   ]
  },
  {
   "cell_type": "code",
   "execution_count": null,
   "id": "bea4650d",
   "metadata": {},
   "outputs": [],
   "source": [
    "# show_recommendations(\"phone\")"
   ]
  },
  {
   "cell_type": "code",
   "execution_count": null,
   "id": "926d15bc",
   "metadata": {},
   "outputs": [],
   "source": [
    "\n"
   ]
  },
  {
   "cell_type": "code",
   "execution_count": null,
   "id": "55162cb9",
   "metadata": {},
   "outputs": [],
   "source": []
  },
  {
   "cell_type": "code",
   "execution_count": null,
   "id": "fb5eb66b",
   "metadata": {},
   "outputs": [],
   "source": []
  }
 ],
 "metadata": {
  "kernelspec": {
   "display_name": "Python 3 (ipykernel)",
   "language": "python",
   "name": "python3"
  },
  "language_info": {
   "codemirror_mode": {
    "name": "ipython",
    "version": 3
   },
   "file_extension": ".py",
   "mimetype": "text/x-python",
   "name": "python",
   "nbconvert_exporter": "python",
   "pygments_lexer": "ipython3",
   "version": "3.10.1"
  }
 },
 "nbformat": 4,
 "nbformat_minor": 5
}
