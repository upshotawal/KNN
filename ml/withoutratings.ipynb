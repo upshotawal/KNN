{
 "cells": [
  {
   "cell_type": "markdown",
   "id": "7fc3ecdd",
   "metadata": {},
   "source": [
    "For a business without any user-item purchase history, a search engine based recommendation system can be designed for users. The product recommendations can be based on textual clustering analysis given in product description.\n"
   ]
  },
  {
   "cell_type": "code",
   "execution_count": 4,
   "id": "246246cd",
   "metadata": {},
   "outputs": [],
   "source": [
    "import numpy as np\n",
    "import pandas as pd\n",
    "import matplotlib.pyplot as plt\n",
    "\n",
    "from sklearn.feature_extraction.text import TfidfVectorizer, CountVectorizer\n",
    "from sklearn.neighbors import NearestNeighbors\n",
    "from sklearn.cluster import KMeans\n",
    "from sklearn.metrics import adjusted_rand_score"
   ]
  },
  {
   "cell_type": "code",
   "execution_count": 5,
   "id": "c158ca91",
   "metadata": {},
   "outputs": [
    {
     "data": {
      "text/plain": [
       "(541909, 8)"
      ]
     },
     "execution_count": 5,
     "metadata": {},
     "output_type": "execute_result"
    }
   ],
   "source": [
    "product_descriptions = pd.read_csv('data.csv',encoding='unicode_escape')\n",
    "product_descriptions.shape"
   ]
  },
  {
   "cell_type": "code",
   "execution_count": 6,
   "id": "7ccdbaee",
   "metadata": {},
   "outputs": [],
   "source": [
    "product_descriptions = product_descriptions.dropna()"
   ]
  },
  {
   "cell_type": "code",
   "execution_count": 7,
   "id": "ffafedba",
   "metadata": {},
   "outputs": [],
   "source": [
    "product_descriptions1 = product_descriptions.head(500)"
   ]
  },
  {
   "cell_type": "code",
   "execution_count": 8,
   "id": "c2efbb72",
   "metadata": {},
   "outputs": [
    {
     "data": {
      "text/plain": [
       "0     WHITE HANGING HEART T-LIGHT HOLDER\n",
       "1                    WHITE METAL LANTERN\n",
       "2         CREAM CUPID HEARTS COAT HANGER\n",
       "3    KNITTED UNION FLAG HOT WATER BOTTLE\n",
       "4         RED WOOLLY HOTTIE WHITE HEART.\n",
       "5           SET 7 BABUSHKA NESTING BOXES\n",
       "6      GLASS STAR FROSTED T-LIGHT HOLDER\n",
       "7                 HAND WARMER UNION JACK\n",
       "8              HAND WARMER RED POLKA DOT\n",
       "9          ASSORTED COLOUR BIRD ORNAMENT\n",
       "Name: Description, dtype: object"
      ]
     },
     "execution_count": 8,
     "metadata": {},
     "output_type": "execute_result"
    }
   ],
   "source": [
    "product_descriptions1[\"Description\"].head(10)"
   ]
  },
  {
   "cell_type": "code",
   "execution_count": 9,
   "id": "78297814",
   "metadata": {},
   "outputs": [
    {
     "data": {
      "text/plain": [
       "<500x492 sparse matrix of type '<class 'numpy.float64'>'\n",
       "\twith 2072 stored elements in Compressed Sparse Row format>"
      ]
     },
     "execution_count": 9,
     "metadata": {},
     "output_type": "execute_result"
    }
   ],
   "source": [
    "vectorizer = TfidfVectorizer(stop_words='english')\n",
    "X1 = vectorizer.fit_transform(product_descriptions1[\"Description\"])\n",
    "X1"
   ]
  },
  {
   "cell_type": "code",
   "execution_count": 10,
   "id": "b24dd42a",
   "metadata": {},
   "outputs": [
    {
     "data": {
      "image/png": "[encoded data removed]",
      "text/plain": [
       "<Figure size 432x288 with 1 Axes>"
      ]
     },
     "metadata": {
      "needs_background": "light"
     },
     "output_type": "display_data"
    }
   ],
   "source": [
    "X=X1\n",
    "\n",
    "kmeans = KMeans(n_clusters = 10, init = 'k-means++')\n",
    "y_kmeans = kmeans.fit_predict(X)\n",
    "plt.plot(y_kmeans, \".\")\n",
    "plt.show()"
   ]
  },
  {
   "cell_type": "code",
   "execution_count": 11,
   "id": "012ba2b6",
   "metadata": {},
   "outputs": [],
   "source": [
    "def print_cluster(i):\n",
    "    print(\"Cluster %d:\" % i),\n",
    "    for ind in order_centroids[i, :10]:\n",
    "        print(' %s' % terms[ind]),\n",
    "    print"
   ]
  },
  {
   "cell_type": "code",
   "execution_count": 12,
   "id": "95a1b32d",
   "metadata": {},
   "outputs": [
    {
     "name": "stdout",
     "output_type": "stream",
     "text": [
      "Top terms per cluster:\n",
      "Cluster 0:\n",
      " metal\n",
      " vintage\n",
      " mug\n",
      " box\n",
      " heart\n",
      " lantern\n",
      " small\n",
      " sign\n",
      " bag\n",
      " pink\n",
      "Cluster 1:\n",
      " retrospot\n",
      " red\n",
      " set\n",
      " pack\n",
      " bag\n",
      " parasol\n",
      " paper\n",
      " 72\n",
      " edwardian\n",
      " jumbo\n",
      "Cluster 2:\n",
      " holder\n",
      " light\n",
      " white\n",
      " heart\n",
      " hanging\n",
      " wood\n",
      " finish\n",
      " cabinet\n",
      " red\n",
      " woolly\n",
      "Cluster 3:\n",
      " hand\n",
      " warmer\n",
      " design\n",
      " cake\n",
      " cream\n",
      " coat\n",
      " jack\n",
      " union\n",
      " cases\n",
      " 60\n",
      "Cluster 4:\n",
      " assorted\n",
      " colour\n",
      " ornament\n",
      " retro\n",
      " mugs\n",
      " coffee\n",
      " bird\n",
      " magnets\n",
      " cones\n",
      " fridge\n",
      "Cluster 5:\n",
      " hot\n",
      " bottle\n",
      " water\n",
      " knitted\n",
      " flag\n",
      " union\n",
      " sympathy\n",
      " tea\n",
      " skull\n",
      " scottie\n",
      "Cluster 6:\n",
      " clock\n",
      " bakelike\n",
      " alarm\n",
      " green\n",
      " wall\n",
      " diner\n",
      " red\n",
      " ivory\n",
      " orange\n",
      " blue\n",
      "Cluster 7:\n",
      " set\n",
      " polkadot\n",
      " boxes\n",
      " nesting\n",
      " babushka\n",
      " flying\n",
      " ducks\n",
      " cookie\n",
      " pink\n",
      " coloured\n",
      "Cluster 8:\n",
      " frame\n",
      " wooden\n",
      " photo\n",
      " white\n",
      " antique\n",
      " cornice\n",
      " picture\n",
      " finish\n",
      " line\n",
      " clip\n",
      "Cluster 9:\n",
      " jam\n",
      " making\n",
      " set\n",
      " candles\n",
      " printed\n",
      " jars\n",
      " scented\n",
      " homemade\n",
      " jar\n",
      " celebration\n"
     ]
    },
    {
     "name": "stderr",
     "output_type": "stream",
     "text": [
      "C:\\Users\\upsho\\AppData\\Local\\Programs\\Python\\Python310\\lib\\site-packages\\sklearn\\utils\\deprecation.py:87: FutureWarning: Function get_feature_names is deprecated; get_feature_names is deprecated in 1.0 and will be removed in 1.2. Please use get_feature_names_out instead.\n",
      "  warnings.warn(msg, category=FutureWarning)\n"
     ]
    }
   ],
   "source": [
    "true_k = 10\n",
    "\n",
    "model = KMeans(n_clusters=true_k, init='k-means++', max_iter=100, n_init=1)\n",
    "model.fit(X1)\n",
    "\n",
    "print(\"Top terms per cluster:\")\n",
    "order_centroids = model.cluster_centers_.argsort()[:, ::-1]\n",
    "terms = vectorizer.get_feature_names()\n",
    "for i in range(true_k):\n",
    "    print_cluster(i)"
   ]
  },
  {
   "cell_type": "code",
   "execution_count": 13,
   "id": "4d8a4b4e",
   "metadata": {},
   "outputs": [],
   "source": [
    "def show_recommendations(product):\n",
    "    Y = vectorizer.transform([product])\n",
    "    prediction = model.predict(Y)\n",
    "    print_cluster(prediction[0])"
   ]
  },
  {
   "cell_type": "code",
   "execution_count": 14,
   "id": "bea4650d",
   "metadata": {},
   "outputs": [
    {
     "name": "stdout",
     "output_type": "stream",
     "text": [
      "Cluster 3:\n",
      " hand\n",
      " warmer\n",
      " design\n",
      " cake\n",
      " cream\n",
      " coat\n",
      " jack\n",
      " union\n",
      " cases\n",
      " 60\n"
     ]
    }
   ],
   "source": [
    "show_recommendations(\"cream\")"
   ]
  },
  {
   "cell_type": "code",
   "execution_count": 15,
   "id": "3f6562ab",
   "metadata": {},
   "outputs": [],
   "source": [
    "from sklearn.metrics import accuracy_score\n",
    "import joblib"
   ]
  },
  {
   "cell_type": "code",
   "execution_count": 16,
   "id": "5f5dbfbe",
   "metadata": {},
   "outputs": [
    {
     "data": {
      "text/plain": [
       "['ml_recommendor_model.joblib']"
      ]
     },
     "execution_count": 16,
     "metadata": {},
     "output_type": "execute_result"
    }
   ],
   "source": [
    "joblib.dump(model,'ml_recommendor_model.joblib')"
   ]
  },
  {
   "cell_type": "code",
   "execution_count": 17,
   "id": "926d15bc",
   "metadata": {},
   "outputs": [
    {
     "name": "stdout",
     "output_type": "stream",
     "text": [
      "Cluster 9:\n",
      " jam\n",
      " making\n",
      " set\n",
      " candles\n",
      " printed\n",
      " jars\n",
      " scented\n",
      " homemade\n",
      " jar\n",
      " celebration\n",
      "None\n"
     ]
    }
   ],
   "source": [
    "print(print_cluster(i))\n"
   ]
  },
  {
   "cell_type": "code",
   "execution_count": null,
   "id": "58e2d07c",
   "metadata": {},
   "outputs": [],
   "source": []
  }
 ],
 "metadata": {
  "kernelspec": {
   "display_name": "Python 3 (ipykernel)",
   "language": "python",
   "name": "python3"
  },
  "language_info": {
   "codemirror_mode": {
    "name": "ipython",
    "version": 3
   },
   "file_extension": ".py",
   "mimetype": "text/x-python",
   "name": "python",
   "nbconvert_exporter": "python",
   "pygments_lexer": "ipython3",
   "version": "3.10.1"
  }
 },
 "nbformat": 4,
 "nbformat_minor": 5
}
